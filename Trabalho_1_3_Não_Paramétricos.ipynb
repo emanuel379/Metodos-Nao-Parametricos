{
  "nbformat": 4,
  "nbformat_minor": 0,
  "metadata": {
    "colab": {
      "provenance": [],
      "include_colab_link": true
    },
    "kernelspec": {
      "name": "python3",
      "display_name": "Python 3"
    },
    "language_info": {
      "name": "python"
    }
  },
  "cells": [
    {
      "cell_type": "markdown",
      "metadata": {
        "id": "view-in-github",
        "colab_type": "text"
      },
      "source": [
        "<a href=\"https://colab.research.google.com/github/emanuel379/Metodos-Nao-Parametricos/blob/main/Trabalho_1_3_N%C3%A3o_Param%C3%A9tricos.ipynb\" target=\"_parent\"><img src=\"https://colab.research.google.com/assets/colab-badge.svg\" alt=\"Open In Colab\"/></a>"
      ]
    },
    {
      "cell_type": "markdown",
      "source": [
        "#SME0810 - Métodos Não-Paramétricos: Trabalho 1/3"
      ],
      "metadata": {
        "id": "GwJzPovyN3Wt"
      }
    },
    {
      "cell_type": "markdown",
      "source": [
        "Ada Maris Pereira Mário - 12725432\n",
        "\n",
        "Emanuel Victor da Silva Favorato - 12558151"
      ],
      "metadata": {
        "id": "c7Rql-mLYJ3l"
      }
    },
    {
      "cell_type": "markdown",
      "source": [
        "##Bibliotecas"
      ],
      "metadata": {
        "id": "NRH4Ry2iOF18"
      }
    },
    {
      "cell_type": "code",
      "execution_count": null,
      "metadata": {
        "id": "m8ojJ5PleXZG"
      },
      "outputs": [],
      "source": [
        "import pandas as pd\n",
        "import numpy as np\n",
        "from scipy.stats import binom\n",
        "from scipy.stats import wilcoxon\n",
        "from sklearn.model_selection import train_test_split\n",
        "from sklearn.linear_model import LogisticRegression\n",
        "from sklearn.metrics import confusion_matrix\n",
        "from statsmodels.stats.contingency_tables import mcnemar\n",
        "import matplotlib.pyplot as plt\n",
        "import seaborn as sns\n",
        "from scipy.stats import median_test\n",
        "from scipy.stats import ks_2samp\n",
        "from scipy.stats import mannwhitneyu\n",
        "from scipy.stats import chi2_contingency\n",
        "from scipy.stats import fisher_exact"
      ]
    },
    {
      "cell_type": "markdown",
      "source": [
        "# Descrição do problema\n",
        "\n",
        "Um dos assuntos mais abordados no setor de tecnologia no presente momento é a soberania estado-unidense e a defasagem dos salários europeus com relação aos norte-americanos. Neste trabalho, serão investigados os salários dos profissionais de ciência de dados nas duas regiões e se essa discrepância é real, ou se trata de apenas especulação financeira."
      ],
      "metadata": {
        "id": "02X3c1IAktQ1"
      }
    },
    {
      "cell_type": "markdown",
      "source": [
        "##Dados"
      ],
      "metadata": {
        "id": "qg-NeEA5hfaU"
      }
    },
    {
      "cell_type": "markdown",
      "source": [
        "EN: Entry Level \\\n",
        "MI: Mid Level \\\n",
        "SE: Senior Level \\\n",
        "EX: Executive Level \\\n",
        "\n",
        "\\\n",
        "FT: Full Time \\\n",
        "PT: Part Time \\\n",
        "CT: Contract basis \\\n",
        "FL: Freelancer \\\n",
        "\n",
        "\\\n",
        "S: Small \\\n",
        "M: Medium \\\n",
        "L: Large"
      ],
      "metadata": {
        "id": "kKsYHPOVbdnP"
      }
    },
    {
      "cell_type": "code",
      "source": [
        "df = pd.read_csv('/content/ds_salaries.csv')\n",
        "df.head()"
      ],
      "metadata": {
        "colab": {
          "base_uri": "https://localhost:8080/",
          "height": 330
        },
        "id": "T9AmQzd6jo6q",
        "outputId": "ae371932-561d-48ff-d055-2ded73b32d3e"
      },
      "execution_count": null,
      "outputs": [
        {
          "output_type": "execute_result",
          "data": {
            "text/plain": [
              "   work_year experience_level employment_type                 job_title  \\\n",
              "0       2023               SE              FT  Principal Data Scientist   \n",
              "1       2023               MI              CT               ML Engineer   \n",
              "2       2023               MI              CT               ML Engineer   \n",
              "3       2023               SE              FT            Data Scientist   \n",
              "4       2023               SE              FT            Data Scientist   \n",
              "\n",
              "   salary salary_currency  salary_in_usd employee_residence  remote_ratio  \\\n",
              "0   80000             EUR          85847                 ES           100   \n",
              "1   30000             USD          30000                 US           100   \n",
              "2   25500             USD          25500                 US           100   \n",
              "3  175000             USD         175000                 CA           100   \n",
              "4  120000             USD         120000                 CA           100   \n",
              "\n",
              "  company_location company_size  \n",
              "0               ES            L  \n",
              "1               US            S  \n",
              "2               US            S  \n",
              "3               CA            M  \n",
              "4               CA            M  "
            ],
            "text/html": [
              "\n",
              "  <div id=\"df-fd4bbd4d-f65b-42d0-a5fb-879188f9b8f3\" class=\"colab-df-container\">\n",
              "    <div>\n",
              "<style scoped>\n",
              "    .dataframe tbody tr th:only-of-type {\n",
              "        vertical-align: middle;\n",
              "    }\n",
              "\n",
              "    .dataframe tbody tr th {\n",
              "        vertical-align: top;\n",
              "    }\n",
              "\n",
              "    .dataframe thead th {\n",
              "        text-align: right;\n",
              "    }\n",
              "</style>\n",
              "<table border=\"1\" class=\"dataframe\">\n",
              "  <thead>\n",
              "    <tr style=\"text-align: right;\">\n",
              "      <th></th>\n",
              "      <th>work_year</th>\n",
              "      <th>experience_level</th>\n",
              "      <th>employment_type</th>\n",
              "      <th>job_title</th>\n",
              "      <th>salary</th>\n",
              "      <th>salary_currency</th>\n",
              "      <th>salary_in_usd</th>\n",
              "      <th>employee_residence</th>\n",
              "      <th>remote_ratio</th>\n",
              "      <th>company_location</th>\n",
              "      <th>company_size</th>\n",
              "    </tr>\n",
              "  </thead>\n",
              "  <tbody>\n",
              "    <tr>\n",
              "      <th>0</th>\n",
              "      <td>2023</td>\n",
              "      <td>SE</td>\n",
              "      <td>FT</td>\n",
              "      <td>Principal Data Scientist</td>\n",
              "      <td>80000</td>\n",
              "      <td>EUR</td>\n",
              "      <td>85847</td>\n",
              "      <td>ES</td>\n",
              "      <td>100</td>\n",
              "      <td>ES</td>\n",
              "      <td>L</td>\n",
              "    </tr>\n",
              "    <tr>\n",
              "      <th>1</th>\n",
              "      <td>2023</td>\n",
              "      <td>MI</td>\n",
              "      <td>CT</td>\n",
              "      <td>ML Engineer</td>\n",
              "      <td>30000</td>\n",
              "      <td>USD</td>\n",
              "      <td>30000</td>\n",
              "      <td>US</td>\n",
              "      <td>100</td>\n",
              "      <td>US</td>\n",
              "      <td>S</td>\n",
              "    </tr>\n",
              "    <tr>\n",
              "      <th>2</th>\n",
              "      <td>2023</td>\n",
              "      <td>MI</td>\n",
              "      <td>CT</td>\n",
              "      <td>ML Engineer</td>\n",
              "      <td>25500</td>\n",
              "      <td>USD</td>\n",
              "      <td>25500</td>\n",
              "      <td>US</td>\n",
              "      <td>100</td>\n",
              "      <td>US</td>\n",
              "      <td>S</td>\n",
              "    </tr>\n",
              "    <tr>\n",
              "      <th>3</th>\n",
              "      <td>2023</td>\n",
              "      <td>SE</td>\n",
              "      <td>FT</td>\n",
              "      <td>Data Scientist</td>\n",
              "      <td>175000</td>\n",
              "      <td>USD</td>\n",
              "      <td>175000</td>\n",
              "      <td>CA</td>\n",
              "      <td>100</td>\n",
              "      <td>CA</td>\n",
              "      <td>M</td>\n",
              "    </tr>\n",
              "    <tr>\n",
              "      <th>4</th>\n",
              "      <td>2023</td>\n",
              "      <td>SE</td>\n",
              "      <td>FT</td>\n",
              "      <td>Data Scientist</td>\n",
              "      <td>120000</td>\n",
              "      <td>USD</td>\n",
              "      <td>120000</td>\n",
              "      <td>CA</td>\n",
              "      <td>100</td>\n",
              "      <td>CA</td>\n",
              "      <td>M</td>\n",
              "    </tr>\n",
              "  </tbody>\n",
              "</table>\n",
              "</div>\n",
              "    <div class=\"colab-df-buttons\">\n",
              "\n",
              "  <div class=\"colab-df-container\">\n",
              "    <button class=\"colab-df-convert\" onclick=\"convertToInteractive('df-fd4bbd4d-f65b-42d0-a5fb-879188f9b8f3')\"\n",
              "            title=\"Convert this dataframe to an interactive table.\"\n",
              "            style=\"display:none;\">\n",
              "\n",
              "  <svg xmlns=\"http://www.w3.org/2000/svg\" height=\"24px\" viewBox=\"0 -960 960 960\">\n",
              "    <path d=\"M120-120v-720h720v720H120Zm60-500h600v-160H180v160Zm220 220h160v-160H400v160Zm0 220h160v-160H400v160ZM180-400h160v-160H180v160Zm440 0h160v-160H620v160ZM180-180h160v-160H180v160Zm440 0h160v-160H620v160Z\"/>\n",
              "  </svg>\n",
              "    </button>\n",
              "\n",
              "  <style>\n",
              "    .colab-df-container {\n",
              "      display:flex;\n",
              "      gap: 12px;\n",
              "    }\n",
              "\n",
              "    .colab-df-convert {\n",
              "      background-color: #E8F0FE;\n",
              "      border: none;\n",
              "      border-radius: 50%;\n",
              "      cursor: pointer;\n",
              "      display: none;\n",
              "      fill: #1967D2;\n",
              "      height: 32px;\n",
              "      padding: 0 0 0 0;\n",
              "      width: 32px;\n",
              "    }\n",
              "\n",
              "    .colab-df-convert:hover {\n",
              "      background-color: #E2EBFA;\n",
              "      box-shadow: 0px 1px 2px rgba(60, 64, 67, 0.3), 0px 1px 3px 1px rgba(60, 64, 67, 0.15);\n",
              "      fill: #174EA6;\n",
              "    }\n",
              "\n",
              "    .colab-df-buttons div {\n",
              "      margin-bottom: 4px;\n",
              "    }\n",
              "\n",
              "    [theme=dark] .colab-df-convert {\n",
              "      background-color: #3B4455;\n",
              "      fill: #D2E3FC;\n",
              "    }\n",
              "\n",
              "    [theme=dark] .colab-df-convert:hover {\n",
              "      background-color: #434B5C;\n",
              "      box-shadow: 0px 1px 3px 1px rgba(0, 0, 0, 0.15);\n",
              "      filter: drop-shadow(0px 1px 2px rgba(0, 0, 0, 0.3));\n",
              "      fill: #FFFFFF;\n",
              "    }\n",
              "  </style>\n",
              "\n",
              "    <script>\n",
              "      const buttonEl =\n",
              "        document.querySelector('#df-fd4bbd4d-f65b-42d0-a5fb-879188f9b8f3 button.colab-df-convert');\n",
              "      buttonEl.style.display =\n",
              "        google.colab.kernel.accessAllowed ? 'block' : 'none';\n",
              "\n",
              "      async function convertToInteractive(key) {\n",
              "        const element = document.querySelector('#df-fd4bbd4d-f65b-42d0-a5fb-879188f9b8f3');\n",
              "        const dataTable =\n",
              "          await google.colab.kernel.invokeFunction('convertToInteractive',\n",
              "                                                    [key], {});\n",
              "        if (!dataTable) return;\n",
              "\n",
              "        const docLinkHtml = 'Like what you see? Visit the ' +\n",
              "          '<a target=\"_blank\" href=https://colab.research.google.com/notebooks/data_table.ipynb>data table notebook</a>'\n",
              "          + ' to learn more about interactive tables.';\n",
              "        element.innerHTML = '';\n",
              "        dataTable['output_type'] = 'display_data';\n",
              "        await google.colab.output.renderOutput(dataTable, element);\n",
              "        const docLink = document.createElement('div');\n",
              "        docLink.innerHTML = docLinkHtml;\n",
              "        element.appendChild(docLink);\n",
              "      }\n",
              "    </script>\n",
              "  </div>\n",
              "\n",
              "\n",
              "<div id=\"df-a434c516-f29b-4cb6-ac19-854d30c0f297\">\n",
              "  <button class=\"colab-df-quickchart\" onclick=\"quickchart('df-a434c516-f29b-4cb6-ac19-854d30c0f297')\"\n",
              "            title=\"Suggest charts\"\n",
              "            style=\"display:none;\">\n",
              "\n",
              "<svg xmlns=\"http://www.w3.org/2000/svg\" height=\"24px\"viewBox=\"0 0 24 24\"\n",
              "     width=\"24px\">\n",
              "    <g>\n",
              "        <path d=\"M19 3H5c-1.1 0-2 .9-2 2v14c0 1.1.9 2 2 2h14c1.1 0 2-.9 2-2V5c0-1.1-.9-2-2-2zM9 17H7v-7h2v7zm4 0h-2V7h2v10zm4 0h-2v-4h2v4z\"/>\n",
              "    </g>\n",
              "</svg>\n",
              "  </button>\n",
              "\n",
              "<style>\n",
              "  .colab-df-quickchart {\n",
              "      --bg-color: #E8F0FE;\n",
              "      --fill-color: #1967D2;\n",
              "      --hover-bg-color: #E2EBFA;\n",
              "      --hover-fill-color: #174EA6;\n",
              "      --disabled-fill-color: #AAA;\n",
              "      --disabled-bg-color: #DDD;\n",
              "  }\n",
              "\n",
              "  [theme=dark] .colab-df-quickchart {\n",
              "      --bg-color: #3B4455;\n",
              "      --fill-color: #D2E3FC;\n",
              "      --hover-bg-color: #434B5C;\n",
              "      --hover-fill-color: #FFFFFF;\n",
              "      --disabled-bg-color: #3B4455;\n",
              "      --disabled-fill-color: #666;\n",
              "  }\n",
              "\n",
              "  .colab-df-quickchart {\n",
              "    background-color: var(--bg-color);\n",
              "    border: none;\n",
              "    border-radius: 50%;\n",
              "    cursor: pointer;\n",
              "    display: none;\n",
              "    fill: var(--fill-color);\n",
              "    height: 32px;\n",
              "    padding: 0;\n",
              "    width: 32px;\n",
              "  }\n",
              "\n",
              "  .colab-df-quickchart:hover {\n",
              "    background-color: var(--hover-bg-color);\n",
              "    box-shadow: 0 1px 2px rgba(60, 64, 67, 0.3), 0 1px 3px 1px rgba(60, 64, 67, 0.15);\n",
              "    fill: var(--button-hover-fill-color);\n",
              "  }\n",
              "\n",
              "  .colab-df-quickchart-complete:disabled,\n",
              "  .colab-df-quickchart-complete:disabled:hover {\n",
              "    background-color: var(--disabled-bg-color);\n",
              "    fill: var(--disabled-fill-color);\n",
              "    box-shadow: none;\n",
              "  }\n",
              "\n",
              "  .colab-df-spinner {\n",
              "    border: 2px solid var(--fill-color);\n",
              "    border-color: transparent;\n",
              "    border-bottom-color: var(--fill-color);\n",
              "    animation:\n",
              "      spin 1s steps(1) infinite;\n",
              "  }\n",
              "\n",
              "  @keyframes spin {\n",
              "    0% {\n",
              "      border-color: transparent;\n",
              "      border-bottom-color: var(--fill-color);\n",
              "      border-left-color: var(--fill-color);\n",
              "    }\n",
              "    20% {\n",
              "      border-color: transparent;\n",
              "      border-left-color: var(--fill-color);\n",
              "      border-top-color: var(--fill-color);\n",
              "    }\n",
              "    30% {\n",
              "      border-color: transparent;\n",
              "      border-left-color: var(--fill-color);\n",
              "      border-top-color: var(--fill-color);\n",
              "      border-right-color: var(--fill-color);\n",
              "    }\n",
              "    40% {\n",
              "      border-color: transparent;\n",
              "      border-right-color: var(--fill-color);\n",
              "      border-top-color: var(--fill-color);\n",
              "    }\n",
              "    60% {\n",
              "      border-color: transparent;\n",
              "      border-right-color: var(--fill-color);\n",
              "    }\n",
              "    80% {\n",
              "      border-color: transparent;\n",
              "      border-right-color: var(--fill-color);\n",
              "      border-bottom-color: var(--fill-color);\n",
              "    }\n",
              "    90% {\n",
              "      border-color: transparent;\n",
              "      border-bottom-color: var(--fill-color);\n",
              "    }\n",
              "  }\n",
              "</style>\n",
              "\n",
              "  <script>\n",
              "    async function quickchart(key) {\n",
              "      const quickchartButtonEl =\n",
              "        document.querySelector('#' + key + ' button');\n",
              "      quickchartButtonEl.disabled = true;  // To prevent multiple clicks.\n",
              "      quickchartButtonEl.classList.add('colab-df-spinner');\n",
              "      try {\n",
              "        const charts = await google.colab.kernel.invokeFunction(\n",
              "            'suggestCharts', [key], {});\n",
              "      } catch (error) {\n",
              "        console.error('Error during call to suggestCharts:', error);\n",
              "      }\n",
              "      quickchartButtonEl.classList.remove('colab-df-spinner');\n",
              "      quickchartButtonEl.classList.add('colab-df-quickchart-complete');\n",
              "    }\n",
              "    (() => {\n",
              "      let quickchartButtonEl =\n",
              "        document.querySelector('#df-a434c516-f29b-4cb6-ac19-854d30c0f297 button');\n",
              "      quickchartButtonEl.style.display =\n",
              "        google.colab.kernel.accessAllowed ? 'block' : 'none';\n",
              "    })();\n",
              "  </script>\n",
              "</div>\n",
              "\n",
              "    </div>\n",
              "  </div>\n"
            ],
            "application/vnd.google.colaboratory.intrinsic+json": {
              "type": "dataframe",
              "variable_name": "df",
              "summary": "{\n  \"name\": \"df\",\n  \"rows\": 3755,\n  \"fields\": [\n    {\n      \"column\": \"work_year\",\n      \"properties\": {\n        \"dtype\": \"number\",\n        \"std\": 0,\n        \"min\": 2020,\n        \"max\": 2023,\n        \"num_unique_values\": 4,\n        \"samples\": [\n          2022,\n          2021,\n          2023\n        ],\n        \"semantic_type\": \"\",\n        \"description\": \"\"\n      }\n    },\n    {\n      \"column\": \"experience_level\",\n      \"properties\": {\n        \"dtype\": \"category\",\n        \"num_unique_values\": 4,\n        \"samples\": [\n          \"MI\",\n          \"EX\",\n          \"SE\"\n        ],\n        \"semantic_type\": \"\",\n        \"description\": \"\"\n      }\n    },\n    {\n      \"column\": \"employment_type\",\n      \"properties\": {\n        \"dtype\": \"category\",\n        \"num_unique_values\": 4,\n        \"samples\": [\n          \"CT\",\n          \"PT\",\n          \"FT\"\n        ],\n        \"semantic_type\": \"\",\n        \"description\": \"\"\n      }\n    },\n    {\n      \"column\": \"job_title\",\n      \"properties\": {\n        \"dtype\": \"category\",\n        \"num_unique_values\": 93,\n        \"samples\": [\n          \"Cloud Database Engineer\",\n          \"Staff Data Analyst\",\n          \"Insight Analyst\"\n        ],\n        \"semantic_type\": \"\",\n        \"description\": \"\"\n      }\n    },\n    {\n      \"column\": \"salary\",\n      \"properties\": {\n        \"dtype\": \"number\",\n        \"std\": 671676,\n        \"min\": 6000,\n        \"max\": 30400000,\n        \"num_unique_values\": 815,\n        \"samples\": [\n          84570,\n          138000,\n          370000\n        ],\n        \"semantic_type\": \"\",\n        \"description\": \"\"\n      }\n    },\n    {\n      \"column\": \"salary_currency\",\n      \"properties\": {\n        \"dtype\": \"category\",\n        \"num_unique_values\": 20,\n        \"samples\": [\n          \"EUR\",\n          \"MXN\",\n          \"DKK\"\n        ],\n        \"semantic_type\": \"\",\n        \"description\": \"\"\n      }\n    },\n    {\n      \"column\": \"salary_in_usd\",\n      \"properties\": {\n        \"dtype\": \"number\",\n        \"std\": 63055,\n        \"min\": 5132,\n        \"max\": 450000,\n        \"num_unique_values\": 1035,\n        \"samples\": [\n          205600,\n          375000,\n          140700\n        ],\n        \"semantic_type\": \"\",\n        \"description\": \"\"\n      }\n    },\n    {\n      \"column\": \"employee_residence\",\n      \"properties\": {\n        \"dtype\": \"category\",\n        \"num_unique_values\": 78,\n        \"samples\": [\n          \"AR\",\n          \"ES\",\n          \"AM\"\n        ],\n        \"semantic_type\": \"\",\n        \"description\": \"\"\n      }\n    },\n    {\n      \"column\": \"remote_ratio\",\n      \"properties\": {\n        \"dtype\": \"number\",\n        \"std\": 48,\n        \"min\": 0,\n        \"max\": 100,\n        \"num_unique_values\": 3,\n        \"samples\": [\n          100,\n          0,\n          50\n        ],\n        \"semantic_type\": \"\",\n        \"description\": \"\"\n      }\n    },\n    {\n      \"column\": \"company_location\",\n      \"properties\": {\n        \"dtype\": \"category\",\n        \"num_unique_values\": 72,\n        \"samples\": [\n          \"GB\",\n          \"MY\",\n          \"SG\"\n        ],\n        \"semantic_type\": \"\",\n        \"description\": \"\"\n      }\n    },\n    {\n      \"column\": \"company_size\",\n      \"properties\": {\n        \"dtype\": \"category\",\n        \"num_unique_values\": 3,\n        \"samples\": [\n          \"L\",\n          \"S\",\n          \"M\"\n        ],\n        \"semantic_type\": \"\",\n        \"description\": \"\"\n      }\n    }\n  ]\n}"
            }
          },
          "metadata": {},
          "execution_count": 3
        }
      ]
    },
    {
      "cell_type": "code",
      "source": [
        "df.describe()"
      ],
      "metadata": {
        "colab": {
          "base_uri": "https://localhost:8080/",
          "height": 300
        },
        "id": "eY7FAiB0j3Bs",
        "outputId": "368bf121-6239-4623-9e18-6336cf32a610"
      },
      "execution_count": null,
      "outputs": [
        {
          "output_type": "execute_result",
          "data": {
            "text/plain": [
              "         work_year        salary  salary_in_usd  remote_ratio\n",
              "count  3755.000000  3.755000e+03    3755.000000   3755.000000\n",
              "mean   2022.373635  1.906956e+05  137570.389880     46.271638\n",
              "std       0.691448  6.716765e+05   63055.625278     48.589050\n",
              "min    2020.000000  6.000000e+03    5132.000000      0.000000\n",
              "25%    2022.000000  1.000000e+05   95000.000000      0.000000\n",
              "50%    2022.000000  1.380000e+05  135000.000000      0.000000\n",
              "75%    2023.000000  1.800000e+05  175000.000000    100.000000\n",
              "max    2023.000000  3.040000e+07  450000.000000    100.000000"
            ],
            "text/html": [
              "\n",
              "  <div id=\"df-f2aab620-5861-400a-b0fe-4c5e3804392a\" class=\"colab-df-container\">\n",
              "    <div>\n",
              "<style scoped>\n",
              "    .dataframe tbody tr th:only-of-type {\n",
              "        vertical-align: middle;\n",
              "    }\n",
              "\n",
              "    .dataframe tbody tr th {\n",
              "        vertical-align: top;\n",
              "    }\n",
              "\n",
              "    .dataframe thead th {\n",
              "        text-align: right;\n",
              "    }\n",
              "</style>\n",
              "<table border=\"1\" class=\"dataframe\">\n",
              "  <thead>\n",
              "    <tr style=\"text-align: right;\">\n",
              "      <th></th>\n",
              "      <th>work_year</th>\n",
              "      <th>salary</th>\n",
              "      <th>salary_in_usd</th>\n",
              "      <th>remote_ratio</th>\n",
              "    </tr>\n",
              "  </thead>\n",
              "  <tbody>\n",
              "    <tr>\n",
              "      <th>count</th>\n",
              "      <td>3755.000000</td>\n",
              "      <td>3.755000e+03</td>\n",
              "      <td>3755.000000</td>\n",
              "      <td>3755.000000</td>\n",
              "    </tr>\n",
              "    <tr>\n",
              "      <th>mean</th>\n",
              "      <td>2022.373635</td>\n",
              "      <td>1.906956e+05</td>\n",
              "      <td>137570.389880</td>\n",
              "      <td>46.271638</td>\n",
              "    </tr>\n",
              "    <tr>\n",
              "      <th>std</th>\n",
              "      <td>0.691448</td>\n",
              "      <td>6.716765e+05</td>\n",
              "      <td>63055.625278</td>\n",
              "      <td>48.589050</td>\n",
              "    </tr>\n",
              "    <tr>\n",
              "      <th>min</th>\n",
              "      <td>2020.000000</td>\n",
              "      <td>6.000000e+03</td>\n",
              "      <td>5132.000000</td>\n",
              "      <td>0.000000</td>\n",
              "    </tr>\n",
              "    <tr>\n",
              "      <th>25%</th>\n",
              "      <td>2022.000000</td>\n",
              "      <td>1.000000e+05</td>\n",
              "      <td>95000.000000</td>\n",
              "      <td>0.000000</td>\n",
              "    </tr>\n",
              "    <tr>\n",
              "      <th>50%</th>\n",
              "      <td>2022.000000</td>\n",
              "      <td>1.380000e+05</td>\n",
              "      <td>135000.000000</td>\n",
              "      <td>0.000000</td>\n",
              "    </tr>\n",
              "    <tr>\n",
              "      <th>75%</th>\n",
              "      <td>2023.000000</td>\n",
              "      <td>1.800000e+05</td>\n",
              "      <td>175000.000000</td>\n",
              "      <td>100.000000</td>\n",
              "    </tr>\n",
              "    <tr>\n",
              "      <th>max</th>\n",
              "      <td>2023.000000</td>\n",
              "      <td>3.040000e+07</td>\n",
              "      <td>450000.000000</td>\n",
              "      <td>100.000000</td>\n",
              "    </tr>\n",
              "  </tbody>\n",
              "</table>\n",
              "</div>\n",
              "    <div class=\"colab-df-buttons\">\n",
              "\n",
              "  <div class=\"colab-df-container\">\n",
              "    <button class=\"colab-df-convert\" onclick=\"convertToInteractive('df-f2aab620-5861-400a-b0fe-4c5e3804392a')\"\n",
              "            title=\"Convert this dataframe to an interactive table.\"\n",
              "            style=\"display:none;\">\n",
              "\n",
              "  <svg xmlns=\"http://www.w3.org/2000/svg\" height=\"24px\" viewBox=\"0 -960 960 960\">\n",
              "    <path d=\"M120-120v-720h720v720H120Zm60-500h600v-160H180v160Zm220 220h160v-160H400v160Zm0 220h160v-160H400v160ZM180-400h160v-160H180v160Zm440 0h160v-160H620v160ZM180-180h160v-160H180v160Zm440 0h160v-160H620v160Z\"/>\n",
              "  </svg>\n",
              "    </button>\n",
              "\n",
              "  <style>\n",
              "    .colab-df-container {\n",
              "      display:flex;\n",
              "      gap: 12px;\n",
              "    }\n",
              "\n",
              "    .colab-df-convert {\n",
              "      background-color: #E8F0FE;\n",
              "      border: none;\n",
              "      border-radius: 50%;\n",
              "      cursor: pointer;\n",
              "      display: none;\n",
              "      fill: #1967D2;\n",
              "      height: 32px;\n",
              "      padding: 0 0 0 0;\n",
              "      width: 32px;\n",
              "    }\n",
              "\n",
              "    .colab-df-convert:hover {\n",
              "      background-color: #E2EBFA;\n",
              "      box-shadow: 0px 1px 2px rgba(60, 64, 67, 0.3), 0px 1px 3px 1px rgba(60, 64, 67, 0.15);\n",
              "      fill: #174EA6;\n",
              "    }\n",
              "\n",
              "    .colab-df-buttons div {\n",
              "      margin-bottom: 4px;\n",
              "    }\n",
              "\n",
              "    [theme=dark] .colab-df-convert {\n",
              "      background-color: #3B4455;\n",
              "      fill: #D2E3FC;\n",
              "    }\n",
              "\n",
              "    [theme=dark] .colab-df-convert:hover {\n",
              "      background-color: #434B5C;\n",
              "      box-shadow: 0px 1px 3px 1px rgba(0, 0, 0, 0.15);\n",
              "      filter: drop-shadow(0px 1px 2px rgba(0, 0, 0, 0.3));\n",
              "      fill: #FFFFFF;\n",
              "    }\n",
              "  </style>\n",
              "\n",
              "    <script>\n",
              "      const buttonEl =\n",
              "        document.querySelector('#df-f2aab620-5861-400a-b0fe-4c5e3804392a button.colab-df-convert');\n",
              "      buttonEl.style.display =\n",
              "        google.colab.kernel.accessAllowed ? 'block' : 'none';\n",
              "\n",
              "      async function convertToInteractive(key) {\n",
              "        const element = document.querySelector('#df-f2aab620-5861-400a-b0fe-4c5e3804392a');\n",
              "        const dataTable =\n",
              "          await google.colab.kernel.invokeFunction('convertToInteractive',\n",
              "                                                    [key], {});\n",
              "        if (!dataTable) return;\n",
              "\n",
              "        const docLinkHtml = 'Like what you see? Visit the ' +\n",
              "          '<a target=\"_blank\" href=https://colab.research.google.com/notebooks/data_table.ipynb>data table notebook</a>'\n",
              "          + ' to learn more about interactive tables.';\n",
              "        element.innerHTML = '';\n",
              "        dataTable['output_type'] = 'display_data';\n",
              "        await google.colab.output.renderOutput(dataTable, element);\n",
              "        const docLink = document.createElement('div');\n",
              "        docLink.innerHTML = docLinkHtml;\n",
              "        element.appendChild(docLink);\n",
              "      }\n",
              "    </script>\n",
              "  </div>\n",
              "\n",
              "\n",
              "<div id=\"df-a43a9c32-7dd6-40ff-8f7f-4af55d2cd134\">\n",
              "  <button class=\"colab-df-quickchart\" onclick=\"quickchart('df-a43a9c32-7dd6-40ff-8f7f-4af55d2cd134')\"\n",
              "            title=\"Suggest charts\"\n",
              "            style=\"display:none;\">\n",
              "\n",
              "<svg xmlns=\"http://www.w3.org/2000/svg\" height=\"24px\"viewBox=\"0 0 24 24\"\n",
              "     width=\"24px\">\n",
              "    <g>\n",
              "        <path d=\"M19 3H5c-1.1 0-2 .9-2 2v14c0 1.1.9 2 2 2h14c1.1 0 2-.9 2-2V5c0-1.1-.9-2-2-2zM9 17H7v-7h2v7zm4 0h-2V7h2v10zm4 0h-2v-4h2v4z\"/>\n",
              "    </g>\n",
              "</svg>\n",
              "  </button>\n",
              "\n",
              "<style>\n",
              "  .colab-df-quickchart {\n",
              "      --bg-color: #E8F0FE;\n",
              "      --fill-color: #1967D2;\n",
              "      --hover-bg-color: #E2EBFA;\n",
              "      --hover-fill-color: #174EA6;\n",
              "      --disabled-fill-color: #AAA;\n",
              "      --disabled-bg-color: #DDD;\n",
              "  }\n",
              "\n",
              "  [theme=dark] .colab-df-quickchart {\n",
              "      --bg-color: #3B4455;\n",
              "      --fill-color: #D2E3FC;\n",
              "      --hover-bg-color: #434B5C;\n",
              "      --hover-fill-color: #FFFFFF;\n",
              "      --disabled-bg-color: #3B4455;\n",
              "      --disabled-fill-color: #666;\n",
              "  }\n",
              "\n",
              "  .colab-df-quickchart {\n",
              "    background-color: var(--bg-color);\n",
              "    border: none;\n",
              "    border-radius: 50%;\n",
              "    cursor: pointer;\n",
              "    display: none;\n",
              "    fill: var(--fill-color);\n",
              "    height: 32px;\n",
              "    padding: 0;\n",
              "    width: 32px;\n",
              "  }\n",
              "\n",
              "  .colab-df-quickchart:hover {\n",
              "    background-color: var(--hover-bg-color);\n",
              "    box-shadow: 0 1px 2px rgba(60, 64, 67, 0.3), 0 1px 3px 1px rgba(60, 64, 67, 0.15);\n",
              "    fill: var(--button-hover-fill-color);\n",
              "  }\n",
              "\n",
              "  .colab-df-quickchart-complete:disabled,\n",
              "  .colab-df-quickchart-complete:disabled:hover {\n",
              "    background-color: var(--disabled-bg-color);\n",
              "    fill: var(--disabled-fill-color);\n",
              "    box-shadow: none;\n",
              "  }\n",
              "\n",
              "  .colab-df-spinner {\n",
              "    border: 2px solid var(--fill-color);\n",
              "    border-color: transparent;\n",
              "    border-bottom-color: var(--fill-color);\n",
              "    animation:\n",
              "      spin 1s steps(1) infinite;\n",
              "  }\n",
              "\n",
              "  @keyframes spin {\n",
              "    0% {\n",
              "      border-color: transparent;\n",
              "      border-bottom-color: var(--fill-color);\n",
              "      border-left-color: var(--fill-color);\n",
              "    }\n",
              "    20% {\n",
              "      border-color: transparent;\n",
              "      border-left-color: var(--fill-color);\n",
              "      border-top-color: var(--fill-color);\n",
              "    }\n",
              "    30% {\n",
              "      border-color: transparent;\n",
              "      border-left-color: var(--fill-color);\n",
              "      border-top-color: var(--fill-color);\n",
              "      border-right-color: var(--fill-color);\n",
              "    }\n",
              "    40% {\n",
              "      border-color: transparent;\n",
              "      border-right-color: var(--fill-color);\n",
              "      border-top-color: var(--fill-color);\n",
              "    }\n",
              "    60% {\n",
              "      border-color: transparent;\n",
              "      border-right-color: var(--fill-color);\n",
              "    }\n",
              "    80% {\n",
              "      border-color: transparent;\n",
              "      border-right-color: var(--fill-color);\n",
              "      border-bottom-color: var(--fill-color);\n",
              "    }\n",
              "    90% {\n",
              "      border-color: transparent;\n",
              "      border-bottom-color: var(--fill-color);\n",
              "    }\n",
              "  }\n",
              "</style>\n",
              "\n",
              "  <script>\n",
              "    async function quickchart(key) {\n",
              "      const quickchartButtonEl =\n",
              "        document.querySelector('#' + key + ' button');\n",
              "      quickchartButtonEl.disabled = true;  // To prevent multiple clicks.\n",
              "      quickchartButtonEl.classList.add('colab-df-spinner');\n",
              "      try {\n",
              "        const charts = await google.colab.kernel.invokeFunction(\n",
              "            'suggestCharts', [key], {});\n",
              "      } catch (error) {\n",
              "        console.error('Error during call to suggestCharts:', error);\n",
              "      }\n",
              "      quickchartButtonEl.classList.remove('colab-df-spinner');\n",
              "      quickchartButtonEl.classList.add('colab-df-quickchart-complete');\n",
              "    }\n",
              "    (() => {\n",
              "      let quickchartButtonEl =\n",
              "        document.querySelector('#df-a43a9c32-7dd6-40ff-8f7f-4af55d2cd134 button');\n",
              "      quickchartButtonEl.style.display =\n",
              "        google.colab.kernel.accessAllowed ? 'block' : 'none';\n",
              "    })();\n",
              "  </script>\n",
              "</div>\n",
              "\n",
              "    </div>\n",
              "  </div>\n"
            ],
            "application/vnd.google.colaboratory.intrinsic+json": {
              "type": "dataframe",
              "summary": "{\n  \"name\": \"df\",\n  \"rows\": 8,\n  \"fields\": [\n    {\n      \"column\": \"work_year\",\n      \"properties\": {\n        \"dtype\": \"number\",\n        \"std\": 1005.6000402402909,\n        \"min\": 0.6914482342671734,\n        \"max\": 3755.0,\n        \"num_unique_values\": 6,\n        \"samples\": [\n          3755.0,\n          2022.3736351531293,\n          2023.0\n        ],\n        \"semantic_type\": \"\",\n        \"description\": \"\"\n      }\n    },\n    {\n      \"column\": \"salary\",\n      \"properties\": {\n        \"dtype\": \"number\",\n        \"std\": 10684942.602896208,\n        \"min\": 3755.0,\n        \"max\": 30400000.0,\n        \"num_unique_values\": 8,\n        \"samples\": [\n          190695.57177097205,\n          138000.0,\n          3755.0\n        ],\n        \"semantic_type\": \"\",\n        \"description\": \"\"\n      }\n    },\n    {\n      \"column\": \"salary_in_usd\",\n      \"properties\": {\n        \"dtype\": \"number\",\n        \"std\": 142261.61341988808,\n        \"min\": 3755.0,\n        \"max\": 450000.0,\n        \"num_unique_values\": 8,\n        \"samples\": [\n          137570.38988015978,\n          135000.0,\n          3755.0\n        ],\n        \"semantic_type\": \"\",\n        \"description\": \"\"\n      }\n    },\n    {\n      \"column\": \"remote_ratio\",\n      \"properties\": {\n        \"dtype\": \"number\",\n        \"std\": 1313.3575027917375,\n        \"min\": 0.0,\n        \"max\": 3755.0,\n        \"num_unique_values\": 5,\n        \"samples\": [\n          46.271637816245004,\n          100.0,\n          48.58905047058756\n        ],\n        \"semantic_type\": \"\",\n        \"description\": \"\"\n      }\n    }\n  ]\n}"
            }
          },
          "metadata": {},
          "execution_count": 4
        }
      ]
    },
    {
      "cell_type": "code",
      "source": [
        "print(df['experience_level'].value_counts())"
      ],
      "metadata": {
        "colab": {
          "base_uri": "https://localhost:8080/"
        },
        "id": "QI8zGifig4fb",
        "outputId": "d1b67df9-2e12-49ec-e86c-e1cf90c2d4f6"
      },
      "execution_count": null,
      "outputs": [
        {
          "output_type": "stream",
          "name": "stdout",
          "text": [
            "experience_level\n",
            "SE    2516\n",
            "MI     805\n",
            "EN     320\n",
            "EX     114\n",
            "Name: count, dtype: int64\n"
          ]
        }
      ]
    },
    {
      "cell_type": "code",
      "source": [
        "df.hist(column='salary_in_usd', by='experience_level', figsize=(10, 6), bins=20)"
      ],
      "metadata": {
        "colab": {
          "base_uri": "https://localhost:8080/",
          "height": 623
        },
        "id": "evFrmUOeckNd",
        "outputId": "f4842221-ece8-499a-c94c-40f2b67f89ea"
      },
      "execution_count": null,
      "outputs": [
        {
          "output_type": "execute_result",
          "data": {
            "text/plain": [
              "array([[<Axes: title={'center': 'EN'}>, <Axes: title={'center': 'EX'}>],\n",
              "       [<Axes: title={'center': 'MI'}>, <Axes: title={'center': 'SE'}>]],\n",
              "      dtype=object)"
            ]
          },
          "metadata": {},
          "execution_count": 40
        },
        {
          "output_type": "display_data",
          "data": {
            "text/plain": [
              "<Figure size 1000x600 with 4 Axes>"
            ],
            "image/png": "[encoded data removed]"
          },
          "metadata": {}
        }
      ]
    },
    {
      "cell_type": "code",
      "source": [
        "df.groupby(by=['experience_level'])['salary_in_usd'].quantile(0.6)"
      ],
      "metadata": {
        "colab": {
          "base_uri": "https://localhost:8080/",
          "height": 241
        },
        "id": "nsVd1pxEcvvY",
        "outputId": "b80aabf9-b379-4ed2-8d11-c93fbb14b408"
      },
      "execution_count": null,
      "outputs": [
        {
          "output_type": "execute_result",
          "data": {
            "text/plain": [
              "experience_level\n",
              "EN     82716.8\n",
              "EX    205000.0\n",
              "MI    110000.0\n",
              "SE    160000.0\n",
              "Name: salary_in_usd, dtype: float64"
            ],
            "text/html": [
              "<div>\n",
              "<style scoped>\n",
              "    .dataframe tbody tr th:only-of-type {\n",
              "        vertical-align: middle;\n",
              "    }\n",
              "\n",
              "    .dataframe tbody tr th {\n",
              "        vertical-align: top;\n",
              "    }\n",
              "\n",
              "    .dataframe thead th {\n",
              "        text-align: right;\n",
              "    }\n",
              "</style>\n",
              "<table border=\"1\" class=\"dataframe\">\n",
              "  <thead>\n",
              "    <tr style=\"text-align: right;\">\n",
              "      <th></th>\n",
              "      <th>salary_in_usd</th>\n",
              "    </tr>\n",
              "    <tr>\n",
              "      <th>experience_level</th>\n",
              "      <th></th>\n",
              "    </tr>\n",
              "  </thead>\n",
              "  <tbody>\n",
              "    <tr>\n",
              "      <th>EN</th>\n",
              "      <td>82716.8</td>\n",
              "    </tr>\n",
              "    <tr>\n",
              "      <th>EX</th>\n",
              "      <td>205000.0</td>\n",
              "    </tr>\n",
              "    <tr>\n",
              "      <th>MI</th>\n",
              "      <td>110000.0</td>\n",
              "    </tr>\n",
              "    <tr>\n",
              "      <th>SE</th>\n",
              "      <td>160000.0</td>\n",
              "    </tr>\n",
              "  </tbody>\n",
              "</table>\n",
              "</div><br><label><b>dtype:</b> float64</label>"
            ]
          },
          "metadata": {},
          "execution_count": 70
        }
      ]
    },
    {
      "cell_type": "code",
      "source": [
        "df['salary_binary'] = df['salary_in_usd'] > 100000\n",
        "df.groupby(by=['experience_level'])['salary_binary'].sum()"
      ],
      "metadata": {
        "colab": {
          "base_uri": "https://localhost:8080/",
          "height": 241
        },
        "id": "qlbRdzl5ajyf",
        "outputId": "ffb03a68-a8f6-4f1e-8caf-3632a7a4a423"
      },
      "execution_count": null,
      "outputs": [
        {
          "output_type": "execute_result",
          "data": {
            "text/plain": [
              "experience_level\n",
              "EN      85\n",
              "EX     107\n",
              "MI     371\n",
              "SE    2102\n",
              "Name: salary_binary, dtype: int64"
            ],
            "text/html": [
              "<div>\n",
              "<style scoped>\n",
              "    .dataframe tbody tr th:only-of-type {\n",
              "        vertical-align: middle;\n",
              "    }\n",
              "\n",
              "    .dataframe tbody tr th {\n",
              "        vertical-align: top;\n",
              "    }\n",
              "\n",
              "    .dataframe thead th {\n",
              "        text-align: right;\n",
              "    }\n",
              "</style>\n",
              "<table border=\"1\" class=\"dataframe\">\n",
              "  <thead>\n",
              "    <tr style=\"text-align: right;\">\n",
              "      <th></th>\n",
              "      <th>salary_binary</th>\n",
              "    </tr>\n",
              "    <tr>\n",
              "      <th>experience_level</th>\n",
              "      <th></th>\n",
              "    </tr>\n",
              "  </thead>\n",
              "  <tbody>\n",
              "    <tr>\n",
              "      <th>EN</th>\n",
              "      <td>85</td>\n",
              "    </tr>\n",
              "    <tr>\n",
              "      <th>EX</th>\n",
              "      <td>107</td>\n",
              "    </tr>\n",
              "    <tr>\n",
              "      <th>MI</th>\n",
              "      <td>371</td>\n",
              "    </tr>\n",
              "    <tr>\n",
              "      <th>SE</th>\n",
              "      <td>2102</td>\n",
              "    </tr>\n",
              "  </tbody>\n",
              "</table>\n",
              "</div><br><label><b>dtype:</b> int64</label>"
            ]
          },
          "metadata": {},
          "execution_count": 72
        }
      ]
    },
    {
      "cell_type": "code",
      "source": [
        "df_us = df[df['employee_residence'] == 'US'] # Dataset para Estados Unidos\n",
        "df_eu = df[df['salary_currency'] == 'EUR'] # Dataset para União Europeia"
      ],
      "metadata": {
        "id": "fIwRc08Dj5Mw"
      },
      "execution_count": null,
      "outputs": []
    },
    {
      "cell_type": "code",
      "source": [
        "# Configurando o gráfico\n",
        "plt.figure(figsize=(10, 6))\n",
        "\n",
        "# Histogramas com densidade alisada e frequências proporcionais\n",
        "sns.histplot(df_us['salary_in_usd'], bins=25, kde=True, stat='density', label='Estados Unidos', color='red')\n",
        "sns.histplot(df_eu['salary_in_usd'], bins=25, kde=True, stat='density', label='União Europeia', color='blue')\n",
        "\n",
        "# Personalizando o gráfico\n",
        "plt.xlabel('Salário')\n",
        "plt.ylabel('Frequência Proporcional')\n",
        "plt.title('Distribuição salarial nas duas regiões')\n",
        "plt.legend()\n",
        "\n",
        "# Exibindo o gráfico\n",
        "plt.show()"
      ],
      "metadata": {
        "colab": {
          "base_uri": "https://localhost:8080/",
          "height": 564
        },
        "id": "TMbhKKIIl9CQ",
        "outputId": "7a24c1a5-cce5-4531-e62b-ab8b02172e29"
      },
      "execution_count": null,
      "outputs": [
        {
          "output_type": "display_data",
          "data": {
            "text/plain": [
              "<Figure size 1000x600 with 1 Axes>"
            ],
            "image/png": "[encoded data removed]"
          },
          "metadata": {}
        }
      ]
    },
    {
      "cell_type": "code",
      "source": [
        "# Estatísticas de salário por experiência\n",
        "salary_stats = df.groupby(\"experience_level\")[\"salary_in_usd\"].agg(\n",
        "    [\"min\", \"max\", \"mean\", \"median\", \"var\"]\n",
        ").reset_index()\n",
        "\n",
        "# Adicionando proporção por nível de experiência\n",
        "experience_counts = df[\"experience_level\"].value_counts(normalize=True).reset_index()\n",
        "experience_counts.columns = [\"experience_level\", \"proportion\"]\n",
        "\n",
        "# Merge das tabelas de experiência\n",
        "experience_stats = pd.merge(salary_stats, experience_counts, on=\"experience_level\")\n",
        "\n",
        "# Estatísticas de salário por região\n",
        "regions = {\n",
        "    \"US\": df_us,\n",
        "    \"EU\": df_eu\n",
        "}\n",
        "\n",
        "region_stats = []\n",
        "for region, df_region in regions.items():\n",
        "    stats = df_region[\"salary_in_usd\"].agg([\"min\", \"max\", \"mean\", \"median\", \"var\"]).to_dict()\n",
        "    proportion = len(df_region) / len(df)\n",
        "    region_stats.append({\n",
        "        \"category\": region,\n",
        "        \"proportion\": proportion,\n",
        "        \"min\": stats[\"min\"],\n",
        "        \"max\": stats[\"max\"],\n",
        "        \"mean\": stats[\"mean\"],\n",
        "        \"median\": stats[\"median\"],\n",
        "        \"var\": stats[\"var\"]\n",
        "    })\n",
        "\n",
        "region_df = pd.DataFrame(region_stats)\n",
        "\n",
        "# Renomeando colunas para consistência\n",
        "experience_stats.rename(columns={\"experience_level\": \"category\"}, inplace=True)\n",
        "\n",
        "# Combinando as tabelas\n",
        "final_table = pd.concat([experience_stats, region_df], ignore_index=True)\n",
        "\n",
        "print(final_table)\n"
      ],
      "metadata": {
        "colab": {
          "base_uri": "https://localhost:8080/"
        },
        "id": "EKfk-h7bgxIk",
        "outputId": "f2b3a6ac-7210-42bb-db0d-5418213ad378"
      },
      "execution_count": null,
      "outputs": [
        {
          "output_type": "stream",
          "name": "stdout",
          "text": [
            "  category      min       max           mean    median           var  \\\n",
            "0       EN   5409.0  300000.0   78546.284375   70000.0  2.727495e+09   \n",
            "1       EX  15000.0  416000.0  194930.929825  196000.0  4.993108e+09   \n",
            "2       MI   5132.0  450000.0  104525.939130  100000.0  2.958020e+09   \n",
            "3       SE   8000.0  423834.0  153051.071542  146000.0  3.237185e+09   \n",
            "4       US  24000.0  450000.0  152822.011651  145000.0  3.064662e+09   \n",
            "5       EU   6304.0  214618.0   62281.733051   59020.0  8.684043e+08   \n",
            "\n",
            "   proportion  \n",
            "0    0.085220  \n",
            "1    0.030360  \n",
            "2    0.214381  \n",
            "3    0.670040  \n",
            "4    0.800000  \n",
            "5    0.062850  \n"
          ]
        }
      ]
    },
    {
      "cell_type": "markdown",
      "source": [
        "É possível notar que os salários na União Europeia estão concentrados em faixas de valores muito abaixo quando comparadas aquelas esperadas para trabalhadores nos Estados Unidos.\n",
        "\n",
        "Para confirmar essa suspeita, serão executados os testes a seguir."
      ],
      "metadata": {
        "id": "NYJONFCUoHi1"
      }
    },
    {
      "cell_type": "markdown",
      "source": [
        "##Teste Qui-Quadrado de Independência"
      ],
      "metadata": {
        "id": "7cR9X6r4Xy3s"
      }
    },
    {
      "cell_type": "markdown",
      "source": [
        "**Hipóteses do teste:** \\\n",
        "\n",
        "$H0: p_1 = p_2$ (A proporção de empregados com salários acima de US$100000 é igual para os níveis de experiência SE e EX)\n",
        "\n",
        "$H1: p_1 \\neq p_2$ (A proporção de empregados com salários acima de US$100000 é diferente para os níveis de experiência SE e EX)\n",
        "\n",
        "$p_1$: proporção de empregados SE com salários > US$100000\n",
        "\n",
        "$p_2$: proporção de empregados EX com salários > US$100000\n",
        "\n",
        "Nível de significância: α = 5%"
      ],
      "metadata": {
        "id": "CfJXvFqlYBGO"
      }
    },
    {
      "cell_type": "code",
      "source": [
        "data = np.array([[107, 114 - 107],  # EX\n",
        "                 [2102, 2516 - 2102]])  # SE\n",
        "\n",
        "print(\"Tabela de Contingência:\")\n",
        "print(data)"
      ],
      "metadata": {
        "id": "o2peP9acfcTD",
        "colab": {
          "base_uri": "https://localhost:8080/"
        },
        "outputId": "e05e08d7-1247-47e9-a74c-7ff5e693e951"
      },
      "execution_count": null,
      "outputs": [
        {
          "output_type": "stream",
          "name": "stdout",
          "text": [
            "Tabela de Contingência:\n",
            "[[ 107    7]\n",
            " [2102  414]]\n"
          ]
        }
      ]
    },
    {
      "cell_type": "code",
      "source": [
        "chi2, p, dof, expected = chi2_contingency(data)\n",
        "\n",
        "print(\"\\nResultados do Teste Qui-Quadrado:\")\n",
        "print(f\"Estatística qui-quadrado: {chi2:.4f}\")\n",
        "print(f\"p-valor: {p:.4f}\")\n",
        "print(f\"Graus de liberdade: {dof}\")\n",
        "print(\"\\nFrequências esperadas:\")\n",
        "print(expected)"
      ],
      "metadata": {
        "colab": {
          "base_uri": "https://localhost:8080/"
        },
        "id": "rCac1JASxOnL",
        "outputId": "d5a90a38-8fa7-4c83-8892-af7722b2c22a"
      },
      "execution_count": null,
      "outputs": [
        {
          "output_type": "stream",
          "name": "stdout",
          "text": [
            "\n",
            "Resultados do Teste Qui-Quadrado:\n",
            "Estatística qui-quadrado: 7.8792\n",
            "p-valor: 0.0050\n",
            "Graus de liberdade: 1\n",
            "\n",
            "Frequências esperadas:\n",
            "[[  95.7513308   18.2486692]\n",
            " [2113.2486692  402.7513308]]\n"
          ]
        }
      ]
    },
    {
      "cell_type": "markdown",
      "source": [
        "Como $valor-p < α$, rejeita-se $H0$.\n",
        "\n",
        "**Conclusão:** ao nível α = 5% de significância, os dados fornecem evidências de que há diferenças nas proporções de profissionais da área de Ciência de Dados com salários acima de US$100000 para os níveis de experiência SE e EX."
      ],
      "metadata": {
        "id": "B6uJH33Fxr-d"
      }
    },
    {
      "cell_type": "markdown",
      "source": [
        "##Teste Exato de Fisher"
      ],
      "metadata": {
        "id": "1djn0CuFfcnn"
      }
    },
    {
      "cell_type": "markdown",
      "source": [
        "Podemos verificar a hipótese anterior fazendo uso do Teste Exato de Fisher, assim, teremos:\n",
        "\n",
        "**Hipóteses do teste:** \\\n",
        "\n",
        "$H0: p_1 = p_2$ (A proporção de empregados com salários acima de US$100000 é igual para os níveis de experiência SE e EX)\n",
        "\n",
        "$H1: p_1 \\neq p_2$ (A proporção de empregados com salários acima de US$100000 é diferente para os níveis de experiência SE e EX)\n",
        "\n",
        "$p_1$: proporção de empregados SE com salários > US$100000\n",
        "\n",
        "$p_2$: proporção de empregados EX com salários > US$100000\n",
        "\n",
        "Nível de significância: α = 5%\n",
        "\n",
        "**observação:** o Teste Qui-Quadrado de Independência é mais indicado para a situação anterior, pois, como visto, a frequência esperada de todas as células é maior ou igual a 5."
      ],
      "metadata": {
        "id": "2-xdFTWqxhye"
      }
    },
    {
      "cell_type": "code",
      "source": [
        "# Dados da tabela de contingência\n",
        "data = np.array([[107, 114 - 107],  # EX\n",
        "                 [2102, 2516 - 2102]])  # SE\n",
        "\n",
        "print(\"Tabela de Contingência:\")\n",
        "print(data)\n",
        "\n",
        "# Realizando o teste exato de Fisher\n",
        "odds_ratio, p_value = fisher_exact(data, alternative='two-sided')\n",
        "\n",
        "# Resultados\n",
        "print(f\"\\nRazão de chances (Odds Ratio): {odds_ratio}\")\n",
        "print(f\"Valor-p: {p_value}\")"
      ],
      "metadata": {
        "id": "21NFuJwhfgQ4",
        "colab": {
          "base_uri": "https://localhost:8080/"
        },
        "outputId": "4b4859a3-1d25-4b21-9b5e-1a7b4fc9e9eb"
      },
      "execution_count": null,
      "outputs": [
        {
          "output_type": "stream",
          "name": "stdout",
          "text": [
            "Tabela de Contingência:\n",
            "[[ 107    7]\n",
            " [2102  414]]\n",
            "\n",
            "Razão de chances (Odds Ratio): 3.0106021476145166\n",
            "Valor-p: 0.0023627297307213945\n"
          ]
        }
      ]
    },
    {
      "cell_type": "markdown",
      "source": [
        "Como $valor-p < α$, rejeita-se $H0$.\n",
        "\n",
        "**Conclusão:** ao nível α = 5% de significância, os dados nos trazem evidências de que existem diferenças significativas nas proporções de profissionais da área de Ciência de Dados com salários acima de US$100000 para os níveis de experiência SE e EX."
      ],
      "metadata": {
        "id": "OK-FslGF0Akw"
      }
    },
    {
      "cell_type": "markdown",
      "source": [
        "##Teste da Mediana"
      ],
      "metadata": {
        "id": "dckAR65-fgxR"
      }
    },
    {
      "cell_type": "markdown",
      "source": [
        "# Hipóteses do teste\n",
        "\n",
        "$H0: p_1 = p_2$ (A renda mediana das duas populações é igual)\n",
        "\n",
        "$H1: p_1 > p_2$ (A renda mediana nos Estados Unidos é maior que na UE)\n",
        "\n",
        "$p_1$: renda mediana nos Estados Unidos\n",
        "\n",
        "$p_2$: renda mediana na União Europeia\n",
        "\n",
        "Nível de significância: α = 5%"
      ],
      "metadata": {
        "id": "XNAFvt0_pGdr"
      }
    },
    {
      "cell_type": "code",
      "source": [
        "# Realizando o teste da mediana\n",
        "stat, p_value, med, tbl = median_test(df_us['salary_in_usd'], df_eu['salary_in_usd'])\n",
        "\n",
        "# Exibindo a tabela de contingência\n",
        "print(\"Tabela de contingência (acima e abaixo da mediana combinada):\")\n",
        "print(tbl)\n",
        "\n",
        "# Exibindo os resultados\n",
        "print(f\"Mediana combinada: {med}\")\n",
        "print(f\"Estatística de teste: {stat}\")\n",
        "print(f\"Valor-p: {p_value}\")"
      ],
      "metadata": {
        "id": "wmnuVHoRfj4R",
        "colab": {
          "base_uri": "https://localhost:8080/"
        },
        "outputId": "2b3834b9-afe9-4855-ebfd-bc4f6e198deb"
      },
      "execution_count": null,
      "outputs": [
        {
          "output_type": "stream",
          "name": "stdout",
          "text": [
            "Tabela de contingência (acima e abaixo da mediana combinada):\n",
            "[[1610    7]\n",
            " [1394  229]]\n",
            "Mediana combinada: 141300.0\n",
            "Estatística de teste: 222.33085741590406\n",
            "Valor-p: 2.805278904787749e-50\n"
          ]
        }
      ]
    },
    {
      "cell_type": "markdown",
      "source": [
        "Como $valor-p < α$, rejeitamos $H0$.\n",
        "\n",
        "**Conclusão:** ao nível de significância α = 5%, os dados nos fornecem evidências de que a renda mediana dos profissionais da área de Ciência de Dados nos EUA é significativamente superior a dos europeus."
      ],
      "metadata": {
        "id": "aob7YZfouyFv"
      }
    },
    {
      "cell_type": "markdown",
      "source": [
        "##Teste das Somas dos Ranks (Wilcoxon, Mann e Whitney)"
      ],
      "metadata": {
        "id": "mSuO68XQfqqo"
      }
    },
    {
      "cell_type": "markdown",
      "source": [
        "# Hipóteses do teste\n",
        "\n",
        "$H0: E(X) = E(Y)$ (A renda média nas duas regiões é a mesma)\n",
        "\n",
        "$H1: E(X) > E(Y)$ (A renda média nos Estados Unidos é maior que na UE)\n",
        "\n",
        "$E(X)$: renda média nos Estados Unidos\n",
        "\n",
        "$E(Y)$: renda média na União Europeia\n",
        "\n",
        "Nível de significância: α = 5%"
      ],
      "metadata": {
        "id": "CzRswVum7qWF"
      }
    },
    {
      "cell_type": "code",
      "source": [
        "# Realizando o teste U de Mann-Whitney com a hipótese alternativa de que a renda média dos EUA é maior\n",
        "stat, p_value = mannwhitneyu(df_us['salary_in_usd'], df_eu['salary_in_usd'], alternative='greater')\n",
        "\n",
        "# Calculando a estatística do teste de Wilcoxon\n",
        "w = stat + len(df_us) * (len(df_us) + 1) / 2\n",
        "\n",
        "# Exibindo os resultados\n",
        "print(f\"Estatística do teste U de Mann-Whitney: {stat}\")\n",
        "print(f\"Estatística do teste Wilcoxon: {w}\")\n",
        "print(f\"Valor p: {p_value}\")"
      ],
      "metadata": {
        "id": "7RwbErgAftJY",
        "colab": {
          "base_uri": "https://localhost:8080/"
        },
        "outputId": "8d427842-7656-4cf0-9fbd-e1db7918e1c8"
      },
      "execution_count": null,
      "outputs": [
        {
          "output_type": "stream",
          "name": "stdout",
          "text": [
            "Estatística do teste U de Mann-Whitney: 668329.0\n",
            "Estatística do teste Wilcoxon: 5181839.0\n",
            "Valor p: 3.270401716064371e-114\n",
            "A renda média nos Estados Unidos é significativamente maior do que na União Europeia (H1 aceita).\n"
          ]
        }
      ]
    },
    {
      "cell_type": "markdown",
      "source": [
        "Como $valor-p < α$, rejeitamos $H0$.\n",
        "\n",
        "**Conclusão:** ao nível de significância α = 5%, os dados nos fornecem evidências de que a renda média dos profissionais de Ciência de Dados nos EUA é significativamente maior que a dos profissionais da União Europeia."
      ],
      "metadata": {
        "id": "4Wri94789qMI"
      }
    },
    {
      "cell_type": "markdown",
      "source": [
        "##Teste de Kolmogorov-Smirnov para Duas Amostras"
      ],
      "metadata": {
        "id": "3Up3bkxQftqI"
      }
    },
    {
      "cell_type": "markdown",
      "source": [
        "# Hipóteses do teste\n",
        "\n",
        "$H0: F_X(t) = G_Y(t)$, para todo t real, ou seja, $X$ e $Y$ possuem distribuições similares.\n",
        "\n",
        "$H1: F_X(t) \\neq G_Y(t)$, para pelo menos um t real, ou seja, $X$ e $Y$ não possuem distribuições similares.\n",
        "\n",
        "$X$: distribuição salarial nos Estados Unidos\n",
        "\n",
        "$Y$: distribuição salarial na União Europeia\n",
        "\n",
        "Nível de significância: α = 5%"
      ],
      "metadata": {
        "id": "W3nfgCmAw93U"
      }
    },
    {
      "cell_type": "code",
      "source": [
        "# Executando o teste de Kolmogorov-Smirnov para duas amostras\n",
        "stat, p_value = ks_2samp(df_us['salary_in_usd'], df_eu['salary_in_usd'])\n",
        "\n",
        "# Exibindo os resultados\n",
        "print(f\"Estatística do teste KS: {stat}\")\n",
        "print(f\"Valor-p: {p_value}\")"
      ],
      "metadata": {
        "id": "adS9vCNufyv9",
        "colab": {
          "base_uri": "https://localhost:8080/"
        },
        "outputId": "111b29a1-8c80-42a8-81f1-8b3f41f2f245"
      },
      "execution_count": null,
      "outputs": [
        {
          "output_type": "stream",
          "name": "stdout",
          "text": [
            "Estatística do teste KS: 0.7853934866505676\n",
            "Valor-p: 5.485342582255515e-141\n"
          ]
        }
      ]
    },
    {
      "cell_type": "markdown",
      "source": [
        "Como $valor-p < α$, rejeitamos $H0$.\n",
        "\n",
        "**Conclusão:** ao nível de significância α = 5%, os dados nos trazem evidências de que a distribuição salarial dos profissionais de Ciência de Dados nos EUA é significativamente diferente daquela observada para os profissionais da União Europeia."
      ],
      "metadata": {
        "id": "nqWV4w1By9Tj"
      }
    }
  ]
}